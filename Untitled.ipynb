{
 "cells": [
  {
   "cell_type": "code",
   "execution_count": 2,
   "id": "531fadd3-4143-40b2-8a42-b5575257f3b6",
   "metadata": {},
   "outputs": [],
   "source": [
    "#import library\n",
    "import pandas as pd\n",
    "import matplotlib.pyplot as plt\n",
    "import seaborn as sns"
   ]
  },
  {
   "cell_type": "code",
   "execution_count": null,
   "id": "c58e3c37-67a6-41bf-b476-9f50f0f563d6",
   "metadata": {},
   "outputs": [],
   "source": []
  },
  {
   "cell_type": "code",
   "execution_count": null,
   "id": "315ba3ed-0d26-4179-a4dc-bedae422d75a",
   "metadata": {},
   "outputs": [],
   "source": [
    "pip install pandas"
   ]
  },
  {
   "cell_type": "raw",
   "id": "6617fa6d-0a2d-4ecf-867a-a06ee6edba36",
   "metadata": {},
   "source": [
    "import warnings\n",
    "warnings.filterwarnings(\"ignore\")"
   ]
  },
  {
   "cell_type": "code",
   "execution_count": null,
   "id": "ba18a38f-b4ac-4ee9-b433-0f794e93acbb",
   "metadata": {},
   "outputs": [],
   "source": [
    "Question 1\n",
    "Part 1:Sales and Profitability Insights"
   ]
  },
  {
   "cell_type": "code",
   "execution_count": 19,
   "id": "12fcab86-0787-48a4-9b7b-83e1c25f051f",
   "metadata": {},
   "outputs": [
    {
     "data": {
      "text/html": [
       "<div>\n",
       "<style scoped>\n",
       "    .dataframe tbody tr th:only-of-type {\n",
       "        vertical-align: middle;\n",
       "    }\n",
       "\n",
       "    .dataframe tbody tr th {\n",
       "        vertical-align: top;\n",
       "    }\n",
       "\n",
       "    .dataframe thead th {\n",
       "        text-align: right;\n",
       "    }\n",
       "</style>\n",
       "<table border=\"1\" class=\"dataframe\">\n",
       "  <thead>\n",
       "    <tr style=\"text-align: right;\">\n",
       "      <th></th>\n",
       "      <th>Order ID</th>\n",
       "      <th>Amount</th>\n",
       "      <th>Profit</th>\n",
       "      <th>Quantity</th>\n",
       "      <th>Category</th>\n",
       "      <th>Sub-Category</th>\n",
       "      <th>Order Date</th>\n",
       "      <th>CustomerName</th>\n",
       "      <th>State</th>\n",
       "      <th>City</th>\n",
       "      <th>Unnamed: 5</th>\n",
       "      <th>Unnamed: 6</th>\n",
       "      <th>Unnamed: 7</th>\n",
       "      <th>Unnamed: 8</th>\n",
       "    </tr>\n",
       "  </thead>\n",
       "  <tbody>\n",
       "    <tr>\n",
       "      <th>0</th>\n",
       "      <td>B-25601</td>\n",
       "      <td>1275</td>\n",
       "      <td>-1148</td>\n",
       "      <td>7</td>\n",
       "      <td>Furniture</td>\n",
       "      <td>Bookcases</td>\n",
       "      <td>01-04-2018</td>\n",
       "      <td>Bharat</td>\n",
       "      <td>Gujarat</td>\n",
       "      <td>Ahmedabad</td>\n",
       "      <td>NaN</td>\n",
       "      <td>NaN</td>\n",
       "      <td>NaN</td>\n",
       "      <td>NaN</td>\n",
       "    </tr>\n",
       "    <tr>\n",
       "      <th>1</th>\n",
       "      <td>B-25601</td>\n",
       "      <td>66</td>\n",
       "      <td>-12</td>\n",
       "      <td>5</td>\n",
       "      <td>Clothing</td>\n",
       "      <td>Stole</td>\n",
       "      <td>01-04-2018</td>\n",
       "      <td>Bharat</td>\n",
       "      <td>Gujarat</td>\n",
       "      <td>Ahmedabad</td>\n",
       "      <td>NaN</td>\n",
       "      <td>NaN</td>\n",
       "      <td>NaN</td>\n",
       "      <td>NaN</td>\n",
       "    </tr>\n",
       "    <tr>\n",
       "      <th>2</th>\n",
       "      <td>B-25601</td>\n",
       "      <td>8</td>\n",
       "      <td>-2</td>\n",
       "      <td>3</td>\n",
       "      <td>Clothing</td>\n",
       "      <td>Hankerchief</td>\n",
       "      <td>01-04-2018</td>\n",
       "      <td>Bharat</td>\n",
       "      <td>Gujarat</td>\n",
       "      <td>Ahmedabad</td>\n",
       "      <td>NaN</td>\n",
       "      <td>NaN</td>\n",
       "      <td>NaN</td>\n",
       "      <td>NaN</td>\n",
       "    </tr>\n",
       "    <tr>\n",
       "      <th>3</th>\n",
       "      <td>B-25601</td>\n",
       "      <td>80</td>\n",
       "      <td>-56</td>\n",
       "      <td>4</td>\n",
       "      <td>Electronics</td>\n",
       "      <td>Electronic Games</td>\n",
       "      <td>01-04-2018</td>\n",
       "      <td>Bharat</td>\n",
       "      <td>Gujarat</td>\n",
       "      <td>Ahmedabad</td>\n",
       "      <td>NaN</td>\n",
       "      <td>NaN</td>\n",
       "      <td>NaN</td>\n",
       "      <td>NaN</td>\n",
       "    </tr>\n",
       "    <tr>\n",
       "      <th>4</th>\n",
       "      <td>B-25602</td>\n",
       "      <td>168</td>\n",
       "      <td>-111</td>\n",
       "      <td>2</td>\n",
       "      <td>Electronics</td>\n",
       "      <td>Phones</td>\n",
       "      <td>01-04-2018</td>\n",
       "      <td>Pearl</td>\n",
       "      <td>Maharashtra</td>\n",
       "      <td>Pune</td>\n",
       "      <td>NaN</td>\n",
       "      <td>NaN</td>\n",
       "      <td>NaN</td>\n",
       "      <td>NaN</td>\n",
       "    </tr>\n",
       "  </tbody>\n",
       "</table>\n",
       "</div>"
      ],
      "text/plain": [
       "  Order ID  Amount  Profit  Quantity     Category      Sub-Category  \\\n",
       "0  B-25601    1275   -1148         7    Furniture         Bookcases   \n",
       "1  B-25601      66     -12         5     Clothing             Stole   \n",
       "2  B-25601       8      -2         3     Clothing       Hankerchief   \n",
       "3  B-25601      80     -56         4  Electronics  Electronic Games   \n",
       "4  B-25602     168    -111         2  Electronics            Phones   \n",
       "\n",
       "   Order Date CustomerName        State       City  Unnamed: 5  Unnamed: 6  \\\n",
       "0  01-04-2018       Bharat      Gujarat  Ahmedabad         NaN         NaN   \n",
       "1  01-04-2018       Bharat      Gujarat  Ahmedabad         NaN         NaN   \n",
       "2  01-04-2018       Bharat      Gujarat  Ahmedabad         NaN         NaN   \n",
       "3  01-04-2018       Bharat      Gujarat  Ahmedabad         NaN         NaN   \n",
       "4  01-04-2018        Pearl  Maharashtra       Pune         NaN         NaN   \n",
       "\n",
       "   Unnamed: 7  Unnamed: 8  \n",
       "0         NaN         NaN  \n",
       "1         NaN         NaN  \n",
       "2         NaN         NaN  \n",
       "3         NaN         NaN  \n",
       "4         NaN         NaN  "
      ]
     },
     "execution_count": 19,
     "metadata": {},
     "output_type": "execute_result"
    }
   ],
   "source": [
    "# Load the datasets\n",
    "list_of_orders_df = pd.read_csv(r\"C:\\Users\\Admin\\Downloads\\List of Orders.csv\")\n",
    "order_details_df = pd.read_csv(r\"C:\\Users\\Admin\\Downloads\\Order Details.csv\")\n",
    "# Merge datasets based on Order ID\n",
    "combined_df = pd.merge(list_of_orders_df, order_details_df, on=\"Order ID\")\n",
    "#Display Initial Data\n",
    "combined_df.head()"
   ]
  },
  {
   "cell_type": "code",
   "execution_count": 20,
   "id": "d54e27ff-f402-41c8-aa2d-834be3f5620f",
   "metadata": {},
   "outputs": [
    {
     "data": {
      "text/html": [
       "<div>\n",
       "<style scoped>\n",
       "    .dataframe tbody tr th:only-of-type {\n",
       "        vertical-align: middle;\n",
       "    }\n",
       "\n",
       "    .dataframe tbody tr th {\n",
       "        vertical-align: top;\n",
       "    }\n",
       "\n",
       "    .dataframe thead th {\n",
       "        text-align: right;\n",
       "    }\n",
       "</style>\n",
       "<table border=\"1\" class=\"dataframe\">\n",
       "  <thead>\n",
       "    <tr style=\"text-align: right;\">\n",
       "      <th></th>\n",
       "      <th>Category</th>\n",
       "      <th>Total sales</th>\n",
       "    </tr>\n",
       "  </thead>\n",
       "  <tbody>\n",
       "    <tr>\n",
       "      <th>0</th>\n",
       "      <td>Clothing</td>\n",
       "      <td>139054</td>\n",
       "    </tr>\n",
       "    <tr>\n",
       "      <th>1</th>\n",
       "      <td>Electronics</td>\n",
       "      <td>165267</td>\n",
       "    </tr>\n",
       "    <tr>\n",
       "      <th>2</th>\n",
       "      <td>Furniture</td>\n",
       "      <td>127181</td>\n",
       "    </tr>\n",
       "  </tbody>\n",
       "</table>\n",
       "</div>"
      ],
      "text/plain": [
       "      Category  Total sales\n",
       "0     Clothing       139054\n",
       "1  Electronics       165267\n",
       "2    Furniture       127181"
      ]
     },
     "execution_count": 20,
     "metadata": {},
     "output_type": "execute_result"
    }
   ],
   "source": [
    "#Computing total sales per category\n",
    "category_sales = combined_df.groupby(\"Category\")[\"Amount\"].sum().reset_index()\n",
    "category_sales.columns = [\"Category\", \"Total sales\"]\n",
    "category_sales"
   ]
  },
  {
   "cell_type": "code",
   "execution_count": 23,
   "id": "9f31af0b-87e5-43be-9ecc-9ea2014e7ba8",
   "metadata": {},
   "outputs": [
    {
     "data": {
      "text/html": [
       "<div>\n",
       "<style scoped>\n",
       "    .dataframe tbody tr th:only-of-type {\n",
       "        vertical-align: middle;\n",
       "    }\n",
       "\n",
       "    .dataframe tbody tr th {\n",
       "        vertical-align: top;\n",
       "    }\n",
       "\n",
       "    .dataframe thead th {\n",
       "        text-align: right;\n",
       "    }\n",
       "</style>\n",
       "<table border=\"1\" class=\"dataframe\">\n",
       "  <thead>\n",
       "    <tr style=\"text-align: right;\">\n",
       "      <th></th>\n",
       "      <th>Category</th>\n",
       "      <th>Avg Profit per Order</th>\n",
       "      <th>Profit</th>\n",
       "      <th>Avg Profit Margin (%)</th>\n",
       "    </tr>\n",
       "  </thead>\n",
       "  <tbody>\n",
       "    <tr>\n",
       "      <th>0</th>\n",
       "      <td>Clothing</td>\n",
       "      <td>139054</td>\n",
       "      <td>11.762908</td>\n",
       "      <td>4.132921</td>\n",
       "    </tr>\n",
       "    <tr>\n",
       "      <th>1</th>\n",
       "      <td>Electronics</td>\n",
       "      <td>165267</td>\n",
       "      <td>34.071429</td>\n",
       "      <td>-0.622928</td>\n",
       "    </tr>\n",
       "    <tr>\n",
       "      <th>2</th>\n",
       "      <td>Furniture</td>\n",
       "      <td>127181</td>\n",
       "      <td>9.456790</td>\n",
       "      <td>-6.788811</td>\n",
       "    </tr>\n",
       "  </tbody>\n",
       "</table>\n",
       "</div>"
      ],
      "text/plain": [
       "      Category  Avg Profit per Order     Profit  Avg Profit Margin (%)\n",
       "0     Clothing                139054  11.762908               4.132921\n",
       "1  Electronics                165267  34.071429              -0.622928\n",
       "2    Furniture                127181   9.456790              -6.788811"
      ]
     },
     "execution_count": 23,
     "metadata": {},
     "output_type": "execute_result"
    }
   ],
   "source": [
    "#Computing average profit per order\n",
    "category_avg_profit = combined_df.groupby(\"Category\")[\"Profit\"].mean().reset_index()\n",
    "category_sales.columns = [\"Category\", \"Avg Profit per Order\"]\n",
    "#Computing overall profit margin\n",
    "combined_df[\"Profit Margin %\"] = (combined_df[\"Profit\"] / combined_df[\"Amount\"]) * 100\n",
    "category_profit_margin = combined_df.groupby(\"Category\")[\"Profit Margin %\"].mean().reset_index()\n",
    "category_profit_margin.columns = [\"Category\", \"Avg Profit Margin (%)\"]\n",
    "#Merging all calculations into one table\n",
    "sales_summary = category_sales.merge(category_avg_profit, on=\"Category\").merge(category_profit_margin,on=\"Category\")\n",
    "sales_summary\n",
    "                                                                                      "
   ]
  },
  {
   "cell_type": "code",
   "execution_count": 24,
   "id": "4e9b76d6-ef35-4161-90b6-909d4d064c20",
   "metadata": {},
   "outputs": [
    {
     "name": "stdout",
     "output_type": "stream",
     "text": [
      "Best Performing Category: Clothing\n",
      "Least Performing Category: Furniture\n"
     ]
    }
   ],
   "source": [
    "#Identifying best and worst performing categories\n",
    "top_category = sales_summary.loc[sales_summary[\"Avg Profit Margin (%)\"].idxmax()]\n",
    "low_category = sales_summary.loc[sales_summary[\"Avg Profit Margin (%)\"].idxmin()]\n",
    "\n",
    "print(\"Best Performing Category:\", top_category[\"Category\"])\n",
    "print(\"Least Performing Category:\", low_category[\"Category\"])\n"
   ]
  },
  {
   "cell_type": "code",
   "execution_count": null,
   "id": "d56a09db-0d23-46ae-a15f-bcb909773941",
   "metadata": {},
   "outputs": [],
   "source": [
    "Part 2: Target Performance Analysis"
   ]
  },
  {
   "cell_type": "code",
   "execution_count": 26,
   "id": "e9b65702-b430-4d1c-b02f-122ccda2e484",
   "metadata": {},
   "outputs": [
    {
     "data": {
      "text/html": [
       "<div>\n",
       "<style scoped>\n",
       "    .dataframe tbody tr th:only-of-type {\n",
       "        vertical-align: middle;\n",
       "    }\n",
       "\n",
       "    .dataframe tbody tr th {\n",
       "        vertical-align: top;\n",
       "    }\n",
       "\n",
       "    .dataframe thead th {\n",
       "        text-align: right;\n",
       "    }\n",
       "</style>\n",
       "<table border=\"1\" class=\"dataframe\">\n",
       "  <thead>\n",
       "    <tr style=\"text-align: right;\">\n",
       "      <th></th>\n",
       "      <th>Month of Order Date</th>\n",
       "      <th>Category</th>\n",
       "      <th>Target</th>\n",
       "      <th>Target Change (%)</th>\n",
       "    </tr>\n",
       "  </thead>\n",
       "  <tbody>\n",
       "    <tr>\n",
       "      <th>0</th>\n",
       "      <td>2018-04-01</td>\n",
       "      <td>Furniture</td>\n",
       "      <td>10400</td>\n",
       "      <td>NaN</td>\n",
       "    </tr>\n",
       "    <tr>\n",
       "      <th>1</th>\n",
       "      <td>2018-05-01</td>\n",
       "      <td>Furniture</td>\n",
       "      <td>10500</td>\n",
       "      <td>0.961538</td>\n",
       "    </tr>\n",
       "    <tr>\n",
       "      <th>2</th>\n",
       "      <td>2018-06-01</td>\n",
       "      <td>Furniture</td>\n",
       "      <td>10600</td>\n",
       "      <td>0.952381</td>\n",
       "    </tr>\n",
       "    <tr>\n",
       "      <th>3</th>\n",
       "      <td>2018-07-01</td>\n",
       "      <td>Furniture</td>\n",
       "      <td>10800</td>\n",
       "      <td>1.886792</td>\n",
       "    </tr>\n",
       "    <tr>\n",
       "      <th>4</th>\n",
       "      <td>2018-08-01</td>\n",
       "      <td>Furniture</td>\n",
       "      <td>10900</td>\n",
       "      <td>0.925926</td>\n",
       "    </tr>\n",
       "    <tr>\n",
       "      <th>5</th>\n",
       "      <td>2018-09-01</td>\n",
       "      <td>Furniture</td>\n",
       "      <td>11000</td>\n",
       "      <td>0.917431</td>\n",
       "    </tr>\n",
       "    <tr>\n",
       "      <th>6</th>\n",
       "      <td>2018-10-01</td>\n",
       "      <td>Furniture</td>\n",
       "      <td>11100</td>\n",
       "      <td>0.909091</td>\n",
       "    </tr>\n",
       "    <tr>\n",
       "      <th>7</th>\n",
       "      <td>2018-11-01</td>\n",
       "      <td>Furniture</td>\n",
       "      <td>11300</td>\n",
       "      <td>1.801802</td>\n",
       "    </tr>\n",
       "    <tr>\n",
       "      <th>8</th>\n",
       "      <td>2018-12-01</td>\n",
       "      <td>Furniture</td>\n",
       "      <td>11400</td>\n",
       "      <td>0.884956</td>\n",
       "    </tr>\n",
       "    <tr>\n",
       "      <th>9</th>\n",
       "      <td>2019-01-01</td>\n",
       "      <td>Furniture</td>\n",
       "      <td>11500</td>\n",
       "      <td>0.877193</td>\n",
       "    </tr>\n",
       "    <tr>\n",
       "      <th>10</th>\n",
       "      <td>2019-02-01</td>\n",
       "      <td>Furniture</td>\n",
       "      <td>11600</td>\n",
       "      <td>0.869565</td>\n",
       "    </tr>\n",
       "    <tr>\n",
       "      <th>11</th>\n",
       "      <td>2019-03-01</td>\n",
       "      <td>Furniture</td>\n",
       "      <td>11800</td>\n",
       "      <td>1.724138</td>\n",
       "    </tr>\n",
       "  </tbody>\n",
       "</table>\n",
       "</div>"
      ],
      "text/plain": [
       "   Month of Order Date   Category  Target  Target Change (%)\n",
       "0           2018-04-01  Furniture   10400                NaN\n",
       "1           2018-05-01  Furniture   10500           0.961538\n",
       "2           2018-06-01  Furniture   10600           0.952381\n",
       "3           2018-07-01  Furniture   10800           1.886792\n",
       "4           2018-08-01  Furniture   10900           0.925926\n",
       "5           2018-09-01  Furniture   11000           0.917431\n",
       "6           2018-10-01  Furniture   11100           0.909091\n",
       "7           2018-11-01  Furniture   11300           1.801802\n",
       "8           2018-12-01  Furniture   11400           0.884956\n",
       "9           2019-01-01  Furniture   11500           0.877193\n",
       "10          2019-02-01  Furniture   11600           0.869565\n",
       "11          2019-03-01  Furniture   11800           1.724138"
      ]
     },
     "execution_count": 26,
     "metadata": {},
     "output_type": "execute_result"
    }
   ],
   "source": [
    "#Loading sales Target dataset\n",
    "target_sales_df = pd.read_csv(r\"C:\\Users\\Admin\\Downloads\\Sales Target.csv\")\n",
    "#Converting Month Column into proper date format\n",
    "target_sales_df[\"Month of Order Date\"] = pd.to_datetime(target_sales_df[\"Month of Order Date\"], format=\"%b-%y\")\n",
    "#Sorting by date foe accurate trend analysis\n",
    "target_sales_df = target_sales_df.sort_values(\"Month of Order Date\")\n",
    "#Filtering for Furniture category only\n",
    "furniture_sales_target = target_sales_df[target_sales_df[\"Category\"] == \"Furniture\"].copy()\n",
    "#calculating percentage change in target sales\n",
    "furniture_sales_target[\"Target Change (%)\"] = furniture_sales_target[\"Target\"].pct_change() * 100\n",
    "#Displaying Results\n",
    "furniture_sales_target"
   ]
  },
  {
   "cell_type": "code",
   "execution_count": null,
   "id": "64df7aa2-d58f-4a27-b089-417839ea4301",
   "metadata": {},
   "outputs": [],
   "source": [
    "!pip install matplotlib\n",
    "!pip install seaborn"
   ]
  },
  {
   "cell_type": "code",
   "execution_count": 31,
   "id": "2a4f9497-6701-4c14-b3cb-b08afe7dade0",
   "metadata": {},
   "outputs": [],
   "source": [
    "import matplotlib.pyplot as plt\n",
    "import seaborn as sns"
   ]
  },
  {
   "cell_type": "code",
   "execution_count": 34,
   "id": "50619998-9a27-4350-936c-bde0d6d8a7d1",
   "metadata": {},
   "outputs": [
    {
     "data": {
      "image/png": "[encoded data removed]",
      "text/plain": [
       "<Figure size 1000x500 with 1 Axes>"
      ]
     },
     "metadata": {},
     "output_type": "display_data"
    }
   ],
   "source": [
    "#Plotting the month-over-month changes\n",
    "plt.figure(figsize=(10, 5))\n",
    "sns.lineplot(x=furniture_sales_target[\"Month of Order Date\"], y=furniture_sales_target[\"Target Change (%)\"], marker=\"o\")\n",
    "plt.xlabel(\"Month\")\n",
    "plt.ylabel(\"Percentage Change in Target Sales\")\n",
    "plt.title(\"Monthly Sales Target Variations - Furniture\")\n",
    "plt.xticks(rotation=45)\n",
    "plt.show()"
   ]
  },
  {
   "cell_type": "code",
   "execution_count": null,
   "id": "bbaa767b-9dfa-49b1-9373-dcbdb695535f",
   "metadata": {},
   "outputs": [],
   "source": [
    "Part 3:Regional Performance Analysis"
   ]
  },
  {
   "cell_type": "code",
   "execution_count": 37,
   "id": "95533d14-c83e-4f68-853e-8a145710a561",
   "metadata": {},
   "outputs": [
    {
     "name": "stdout",
     "output_type": "stream",
     "text": [
      "            State  Order_Count  Total_Sales  Avg_Profit\n",
      "0           Delhi           74        22531   40.364865\n",
      "1         Gujarat           87        21058    5.344828\n",
      "2  Madhya Pradesh          340       105140   16.326471\n",
      "3     Maharashtra          290        95348   21.296552\n",
      "4       Rajasthan           74        21149   16.986486\n"
     ]
    }
   ],
   "source": [
    "#Identifying topsates based on order count\n",
    "top_states = combined_df[\"State\"].value_counts().head(5).index.tolist()\n",
    "statewise_df = combined_df[combined_df[\"State\"].isin(top_states)]\n",
    "#Aggregating sales and profit by state\n",
    "state_performance = statewise_df.groupby(\"State\").agg(\n",
    "    Order_Count=(\"Order ID\", \"count\"),\n",
    "    Total_Sales=(\"Amount\", \"sum\"),\n",
    "    Avg_Profit=(\"Profit\", \"mean\"),\n",
    ").reset_index()\n",
    "print(state_performance)\n",
    "    \n"
   ]
  },
  {
   "cell_type": "code",
   "execution_count": 41,
   "id": "c0683a16-8766-47f2-a202-58c8f883c68f",
   "metadata": {},
   "outputs": [
    {
     "name": "stderr",
     "output_type": "stream",
     "text": [
      "C:\\Users\\Admin\\AppData\\Local\\Temp\\ipykernel_23732\\1412121406.py:5: FutureWarning: \n",
      "\n",
      "Passing `palette` without assigning `hue` is deprecated and will be removed in v0.14.0. Assign the `x` variable to `hue` and set `legend=False` for the same effect.\n",
      "\n",
      "  ax = sns.barplot(x=\"State\", y=\"Total_Sales\", data=state_performance, palette=\"coolwarm\", legend=False)\n"
     ]
    },
    {
     "data": {
      "image/png": "[encoded data removed]",
      "text/plain": [
       "<Figure size 1000x500 with 1 Axes>"
      ]
     },
     "metadata": {},
     "output_type": "display_data"
    }
   ],
   "source": [
    "#Set a style for the plot\n",
    "sns.set_style(\"whitegrid\")\n",
    "#Create a bar chart with different colors\n",
    "plt.figure(figsize=(10, 5))\n",
    "ax = sns.barplot(x=\"State\", y=\"Total_Sales\", data=state_performance, palette=\"coolwarm\", legend=False)\n",
    "#Add label and title\n",
    "plt.xlabel(\"State\", fontsize=12)\n",
    "plt.title(\"Top 5 States Performance\", fontsize=14, fontweight='bold')\n",
    "#Rotate x-axis labels for better visibility\n",
    "plt.xticks(rotation=30)\n",
    "#Add value labels on top of each bar\n",
    "for p in ax.patches:\n",
    "    ax.annotate(f'{p.get_height():,.0f}',\n",
    "                (p.get_x() + p.get_width() / 2., p.get_height()),\n",
    "                ha='center', va='bottom', fontsize=10, color='black', fontweight='bold')\n",
    "# Show the Plot\n",
    "plt.show()"
   ]
  },
  {
   "cell_type": "code",
   "execution_count": null,
   "id": "b40ed51d-73dc-4df9-b4a9-55030cd37f45",
   "metadata": {},
   "outputs": [],
   "source": []
  }
 ],
 "metadata": {
  "kernelspec": {
   "display_name": "Python 3 (ipykernel)",
   "language": "python",
   "name": "python3"
  },
  "language_info": {
   "codemirror_mode": {
    "name": "ipython",
    "version": 3
   },
   "file_extension": ".py",
   "mimetype": "text/x-python",
   "name": "python",
   "nbconvert_exporter": "python",
   "pygments_lexer": "ipython3",
   "version": "3.12.7"
  }
 },
 "nbformat": 4,
 "nbformat_minor": 5
}
