{
 "cells": [
  {
   "cell_type": "code",
   "execution_count": null,
   "id": "9b0c9f4d-9775-492d-a6b1-5a7ca37640c5",
   "metadata": {},
   "outputs": [],
   "source": [
    "pip install ipython-sql"
   ]
  },
  {
   "cell_type": "code",
   "execution_count": 3,
   "id": "e2560e3f-c7a0-4c48-8500-aa16545b9cf8",
   "metadata": {},
   "outputs": [
    {
     "name": "stdout",
     "output_type": "stream",
     "text": [
      "The sql extension is already loaded. To reload it, use:\n",
      "  %reload_ext sql\n"
     ]
    }
   ],
   "source": [
    "%load_ext sql\n"
   ]
  },
  {
   "cell_type": "code",
   "execution_count": 4,
   "id": "6c9cc4e0-8ec4-4dc5-9ab1-d94fa8c18733",
   "metadata": {},
   "outputs": [],
   "source": [
    "%sql sqlite://"
   ]
  },
  {
   "cell_type": "code",
   "execution_count": 5,
   "id": "b4ea763e-f78a-455c-9807-bcbb62d97284",
   "metadata": {},
   "outputs": [],
   "source": [
    "import sqlite3"
   ]
  },
  {
   "cell_type": "code",
   "execution_count": 6,
   "id": "01b8fdff-fd6d-4c42-8210-1dbd08434759",
   "metadata": {},
   "outputs": [
    {
     "name": "stdout",
     "output_type": "stream",
     "text": [
      "Requirement already satisfied: pandas in c:\\users\\admin\\.jupyter\\rakshitha\\libs\\new folder\\lib\\site-packages (2.2.2)\n",
      "Requirement already satisfied: numpy>=1.26.0 in c:\\users\\admin\\.jupyter\\rakshitha\\libs\\new folder\\lib\\site-packages (from pandas) (1.26.4)\n",
      "Requirement already satisfied: python-dateutil>=2.8.2 in c:\\users\\admin\\.jupyter\\rakshitha\\libs\\new folder\\lib\\site-packages (from pandas) (2.9.0.post0)\n",
      "Requirement already satisfied: pytz>=2020.1 in c:\\users\\admin\\.jupyter\\rakshitha\\libs\\new folder\\lib\\site-packages (from pandas) (2024.1)\n",
      "Requirement already satisfied: tzdata>=2022.7 in c:\\users\\admin\\.jupyter\\rakshitha\\libs\\new folder\\lib\\site-packages (from pandas) (2023.3)\n",
      "Requirement already satisfied: six>=1.5 in c:\\users\\admin\\.jupyter\\rakshitha\\libs\\new folder\\lib\\site-packages (from python-dateutil>=2.8.2->pandas) (1.16.0)\n",
      "Note: you may need to restart the kernel to use updated packages.\n"
     ]
    }
   ],
   "source": [
    "pip install pandas"
   ]
  },
  {
   "cell_type": "code",
   "execution_count": 7,
   "id": "7e85e8a9-8fad-408a-899a-9e78358717e9",
   "metadata": {},
   "outputs": [
    {
     "data": {
      "text/plain": [
       "195605"
      ]
     },
     "execution_count": 7,
     "metadata": {},
     "output_type": "execute_result"
    }
   ],
   "source": [
    "import pandas as pd\n",
    "import sqlite3\n",
    "# Load the data\n",
    "df = pd.read_csv(r\"C:\\Users\\Admin\\Downloads\\archive (1)\\medicine_data.csv\")\n",
    "# Create in memory SQLite database\n",
    "conn = sqlite3.connect(\":memory:\")\n",
    "# Load Dataframe into SQLite\n",
    "df.to_sql(\"medicine data\", conn, index=False, if_exists=\"replace\")"
   ]
  },
  {
   "cell_type": "code",
   "execution_count": null,
   "id": "e9758fca-3eae-4288-93ba-bf0330c86999",
   "metadata": {},
   "outputs": [],
   "source": [
    "%%sql\n",
    "SELECT name FROM sqlite_master WHERE type='table';"
   ]
  },
  {
   "cell_type": "code",
   "execution_count": 12,
   "id": "42d25d05-da39-4bdf-8c7f-95d4ace458a5",
   "metadata": {},
   "outputs": [
    {
     "name": "stdout",
     "output_type": "stream",
     "text": [
      "          sub_category                                       product_name  \\\n",
      "0  Human Insulin Basal  Human Insulatard 40IU/ml Suspension for Injection   \n",
      "1  Human Insulin Basal                          Insulin 40IU/ml Injection   \n",
      "2  Human Insulin Basal                     Huminsulin N 40IU/ml Injection   \n",
      "3  Human Insulin Basal                        Insugen-N 40IU/ml Injection   \n",
      "4  Human Insulin Basal                        Insulatard 100IU/ml Flexpen   \n",
      "\n",
      "              salt_composition product_price  \\\n",
      "0      Insulin Isophane (40IU)       ₹133.93   \n",
      "1      Insulin Isophane (40IU)       ₹121.91   \n",
      "2      Insulin Isophane (40IU)       ₹133.45   \n",
      "3      Insulin Isophane (40IU)       ₹133.36   \n",
      "4  Insulin Isophane (100IU/ml)       ₹401.03   \n",
      "\n",
      "                  product_manufactured  \\\n",
      "0           Novo Nordisk India Pvt Ltd   \n",
      "1    Sun Pharmaceutical Industries Ltd   \n",
      "2  Eli Lilly and Company India Pvt Ltd   \n",
      "3                               Biocon   \n",
      "4           Novo Nordisk India Pvt Ltd   \n",
      "\n",
      "                                       medicine_desc  \\\n",
      "0  Human Insulatard 40IU/ml Suspension for Inject...   \n",
      "1  Insulin 40IU/ml Injection is used to improve b...   \n",
      "2  Huminsulin N 40IU/ml Injection is used to impr...   \n",
      "3  Insugen-N 40IU/ml Injection is used to improve...   \n",
      "4  Insulatard 100IU/ml Flexpen is used to improve...   \n",
      "\n",
      "                                        side_effects  \\\n",
      "0  Hypoglycemia (low blood glucose level),Injecti...   \n",
      "1  Hypoglycemia (low blood glucose level),Injecti...   \n",
      "2  Hypoglycemia (low blood glucose level),Injecti...   \n",
      "3  Hypoglycemia (low blood glucose level),Injecti...   \n",
      "4  Hypoglycemia (low blood glucose level),Injecti...   \n",
      "\n",
      "                                   drug_interactions  \n",
      "0  {\"drug\": [\"Benazepril\", \"Captopril\", \"Enalapri...  \n",
      "1  {\"drug\": [\"Benazepril\", \"Captopril\", \"Enalapri...  \n",
      "2  {\"drug\": [\"Benazepril\", \"Captopril\", \"Enalapri...  \n",
      "3  {\"drug\": [\"Benazepril\", \"Captopril\", \"Enalapri...  \n",
      "4  {\"drug\": [\"Benazepril\", \"Captopril\", \"Enalapri...  \n"
     ]
    }
   ],
   "source": [
    "import sqlite3\n",
    "import pandas as pd\n",
    "conn = sqlite3.connect(\"medicine_db.sqlite\")\n",
    "query = \"SELECT * FROM medicine_data LIMIT 5;\"\n",
    "df = pd.read_sql(query, conn)\n",
    "print(df.head())"
   ]
  },
  {
   "cell_type": "code",
   "execution_count": 19,
   "id": "422ee3c5-d73b-458b-91c1-57a496abb99c",
   "metadata": {},
   "outputs": [
    {
     "name": "stdout",
     "output_type": "stream",
     "text": [
      "                       product_name product_price\n",
      "0         Oxyinoz 0.05% Nasal Drops          None\n",
      "1      Sandostatin 0.05mg Injection          ₹323\n",
      "2                    Gemidro Tablet       ₹300.05\n",
      "3                 Exfaro 300 Tablet        ₹535.5\n",
      "4             Enbrol 25mg Injection        ₹24429\n",
      "5  Oxyinoz Infant 0.01% Nasal Drops          None\n",
      "6                Mahacef 200 Tablet        ₹70.83\n",
      "7              Olimelt 10 Tablet MD        ₹65.87\n",
      "8              Clopam 1gm Injection       ₹287.06\n",
      "9                 Aziderm 20% Cream       ₹221.85\n"
     ]
    }
   ],
   "source": [
    "# Show 10 Random Medicines\n",
    "query = \"SELECT product_name, product_price FROM medicine_data ORDER BY RANDOM() LIMIT 10;\"\n",
    "df = pd.read_sql(query, conn)\n",
    "print(df)"
   ]
  },
  {
   "cell_type": "code",
   "execution_count": 18,
   "id": "57f1d477-1fc0-42a9-bc13-83f1e67132d0",
   "metadata": {},
   "outputs": [
    {
     "name": "stdout",
     "output_type": "stream",
     "text": [
      "                               sub_category  total_medicines\n",
      "0                   Systemic Antihistamines               45\n",
      "1                   Atypical Antipsychotics               43\n",
      "2                           Anti Epileptics               41\n",
      "3  Vinca Alkaloids And Other Plant Products               40\n",
      "4                 Varicose Therapy Systemic               40\n"
     ]
    }
   ],
   "source": [
    "# Count of Medicines per Subcategory\n",
    "query = \"SELECT sub_category, COUNT(*) AS total_medicines FROM medicine_data GROUP BY sub_category ORDER BY total_medicines DESC;\"\n",
    "df = pd.read_sql(query, conn)\n",
    "print(df.head())"
   ]
  },
  {
   "cell_type": "code",
   "execution_count": 16,
   "id": "c8e87ed0-2c99-476e-863e-8c7fa8e1ea5d",
   "metadata": {},
   "outputs": [
    {
     "name": "stdout",
     "output_type": "stream",
     "text": [
      "               product_name product_price           product_manufactured\n",
      "0    Zavinex 3MIU Injection       ₹998.75                   Zydus Cadila\n",
      "1      RotaTeq Oral Vaccine       ₹998.75    MSD Pharmaceuticals Pvt Ltd\n",
      "2    Casfung 50mg Injection       ₹9955.2   Glenmark Pharmaceuticals Ltd\n",
      "3  Filneon 300mcg Injection        ₹994.5          Neon Laboratories Ltd\n",
      "4      Ricovir 300mg Tablet       ₹991.95  Mylan Pharmaceuticals Pvt Ltd\n"
     ]
    }
   ],
   "source": [
    "# Top 5 Expensive Medicines\n",
    "query = \"SELECT product_name, product_price, product_manufactured FROM medicine_data ORDER BY product_price DESC LIMIT 5;\"\n",
    "df = pd.read_sql(query, conn)\n",
    "print(df)"
   ]
  },
  {
   "cell_type": "code",
   "execution_count": 21,
   "id": "5af71015-d39d-48cc-af10-107e9e602103",
   "metadata": {},
   "outputs": [
    {
     "name": "stdout",
     "output_type": "stream",
     "text": [
      "                      salt_composition  total_products\n",
      "0                     Loperamide (2mg)              37\n",
      "1  Lactitol (10gm) + Ispaghula (3.5gm)              35\n",
      "2                     Folic Acid (5mg)              34\n",
      "3                   Ornidazole (500mg)              33\n",
      "4               Nitrofurantoin (100mg)              32\n"
     ]
    }
   ],
   "source": [
    "# Group by salt composition\n",
    "query = \"SELECT salt_composition, COUNT(*) AS total_products FROM medicine_data GROUP BY salt_composition ORDER BY total_products DESC;\"\n",
    "df = pd.read_sql(query, conn)\n",
    "print(df.head())"
   ]
  },
  {
   "cell_type": "code",
   "execution_count": 23,
   "id": "f373aed1-f0ee-4209-a15e-258746865542",
   "metadata": {},
   "outputs": [
    {
     "name": "stdout",
     "output_type": "stream",
     "text": [
      "                               sub_category  avg_price\n",
      "0                     Vitamin K Antagonists        0.0\n",
      "1  Vinca Alkaloids And Other Plant Products        0.0\n",
      "2                 Varicose Therapy Systemic        0.0\n",
      "3             Urinary Incontinence Products        0.0\n",
      "4   Urinary Anti Infectives And Antiseptics        0.0\n"
     ]
    }
   ],
   "source": [
    "# Average Price per subcategory\n",
    "query = \"SELECT sub_category, ROUND(AVG(product_price), 2) AS avg_price FROM medicine_data GROUP BY sub_category ORDER BY avg_price DESC;\"\n",
    "df = pd.read_sql(query, conn)\n",
    "print(df.head())"
   ]
  },
  {
   "cell_type": "code",
   "execution_count": 24,
   "id": "d37334bf-a592-4a19-8cd5-6e8b6c636015",
   "metadata": {},
   "outputs": [
    {
     "name": "stdout",
     "output_type": "stream",
     "text": [
      "           product_name                                   salt_composition  \\\n",
      "0       Ultracet Tablet  Paracetamol/Acetaminophen  (325mg) +  Tramadol...   \n",
      "1      Calpol T  Tablet  Paracetamol/Acetaminophen  (325mg) +  Tramadol...   \n",
      "2  Ultracet Semi Tablet  Paracetamol/Acetaminophen  (162.5mg) +  Tramad...   \n",
      "3         Acuvin Tablet  Paracetamol/Acetaminophen  (325mg) +  Tramadol...   \n",
      "4    Mega Flexon Tablet  Paracetamol/Acetaminophen  (325mg) +  Tramadol...   \n",
      "\n",
      "                                        side_effects  \n",
      "0  Nausea,Vomiting,Constipation,Weakness,Dizzines...  \n",
      "1  Nausea,Vomiting,Constipation,Weakness,Dizzines...  \n",
      "2  Nausea,Vomiting,Constipation,Weakness,Dizzines...  \n",
      "3  Nausea,Vomiting,Constipation,Weakness,Dizzines...  \n",
      "4  Nausea,Vomiting,Constipation,Weakness,Dizzines...  \n"
     ]
    }
   ],
   "source": [
    "# List all side effects of a specific salt\n",
    "query = \"SELECT product_name, salt_composition, side_effects FROM medicine_data WHERE salt_composition LIKE '%Paracetamol%';\"\n",
    "df = pd.read_sql(query, conn)\n",
    "print(df.head())"
   ]
  },
  {
   "cell_type": "code",
   "execution_count": null,
   "id": "27ab5024-63c6-4637-831b-1b93c6ad1e02",
   "metadata": {},
   "outputs": [],
   "source": []
  }
 ],
 "metadata": {
  "kernelspec": {
   "display_name": "Python [conda env:base]",
   "language": "python",
   "name": "conda-base-py"
  },
  "language_info": {
   "codemirror_mode": {
    "name": "ipython",
    "version": 3
   },
   "file_extension": ".py",
   "mimetype": "text/x-python",
   "name": "python",
   "nbconvert_exporter": "python",
   "pygments_lexer": "ipython3",
   "version": "3.12.7"
  }
 },
 "nbformat": 4,
 "nbformat_minor": 5
}
