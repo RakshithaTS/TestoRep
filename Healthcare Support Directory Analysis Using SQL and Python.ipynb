{
 "cells": [
  {
   "cell_type": "code",
   "execution_count": null,
   "id": "39469227-70db-4b56-8788-97a9c1890051",
   "metadata": {},
   "outputs": [],
   "source": [
    "pip install pandas"
   ]
  },
  {
   "cell_type": "code",
   "execution_count": 5,
   "id": "49bdcb28-30c4-4207-826b-2b974d14ed47",
   "metadata": {},
   "outputs": [],
   "source": [
    "import pandas as pd"
   ]
  },
  {
   "cell_type": "code",
   "execution_count": 28,
   "id": "de8b6bbc-5b5b-4ebe-8abf-3bf7a9140aa3",
   "metadata": {},
   "outputs": [
    {
     "name": "stdout",
     "output_type": "stream",
     "text": [
      "   record_id                          data_set_name  \\\n",
      "0    1428646                     Agent/Broker (ABA)   \n",
      "1      21643  Certified Application Counselor (CAC)   \n",
      "2    1362234                     Agent/Broker (ABA)   \n",
      "3    1307876                     Agent/Broker (ABA)   \n",
      "4      28359  Certified Application Counselor (CAC)   \n",
      "\n",
      "                                   organization_name  main_phone_number  \\\n",
      "0                                                NaN         7085291060   \n",
      "1  Central Texas Community Health Centers, Dba Co...         5129789015   \n",
      "2                                                NaN         8643990510   \n",
      "3                                                NaN         6822945885   \n",
      "4                      Community Health Centers, Inc         8019552388   \n",
      "\n",
      "               street_address          city state_or_territory  zip_code  \\\n",
      "0                         NaN        Berwyn                 IL   60402.0   \n",
      "1         1210 W. Braker Lane        Austin                 TX   78758.0   \n",
      "2        28 Plainfield circle    Greenville                 SC   29605.0   \n",
      "3           971 W 80 TH PLACE       HIALEAH                 FL   33014.0   \n",
      "4  980 Medical Drive, Suite 1  Brigham City                 UT   84302.0   \n",
      "\n",
      "  non_english_assistance_offered organization_acronym  ...  \\\n",
      "0                        English                  NaN  ...   \n",
      "1                            NaN                  NaN  ...   \n",
      "2                        English                  NaN  ...   \n",
      "3                        Spanish                  NaN  ...   \n",
      "4                        English                  NaN  ...   \n",
      "\n",
      "  language_line_phone_for_non_english_speakers                  location_name  \\\n",
      "0                                          NaN                   Gregory Urso   \n",
      "1                                          NaN    CommUnityCare-North Central   \n",
      "2                                          NaN                  Sammie Golden   \n",
      "3                                          NaN                    Joel NIEVES   \n",
      "4                                          NaN  Community Health Centers, Inc   \n",
      "\n",
      "                      website_url  additional_information  \\\n",
      "0                             NaN                     NaN   \n",
      "1  http://www.communitycaretx.org                     NaN   \n",
      "2                             NaN                     NaN   \n",
      "3                             NaN                     NaN   \n",
      "4                             NaN                     NaN   \n",
      "\n",
      "  accessibility_service_offered           geo_location  \\\n",
      "0                           NaN   (41.85043,-87.79591)   \n",
      "1                           NaN   (30.38554,-97.69437)   \n",
      "2                           NaN   (34.78216,-82.38667)   \n",
      "3                           NaN   (25.89584,-80.30353)   \n",
      "4                           NaN  (41.49029,-112.02523)   \n",
      "\n",
      "                              email_address display display_address  \\\n",
      "0                       gurso@gambinobr.com    True           False   \n",
      "1  marketplacequestions@communitycaretx.org    True            True   \n",
      "2                      sngolden32@yahoo.com    True            True   \n",
      "3                    ALFREDJOEL16@GMAIL.COM    True            True   \n",
      "4            joyler@healthaccessproject.org    True            True   \n",
      "\n",
      "  address_comment  \n",
      "0             NaN  \n",
      "1             NaN  \n",
      "2             NaN  \n",
      "3             NaN  \n",
      "4             NaN  \n",
      "\n",
      "[5 rows x 23 columns]\n"
     ]
    },
    {
     "name": "stderr",
     "output_type": "stream",
     "text": [
      "C:\\Users\\Admin\\AppData\\Local\\Temp\\ipykernel_18592\\1176814847.py:2: DtypeWarning: Columns (11,12,22) have mixed types. Specify dtype option on import or set low_memory=False.\n",
      "  df = pd.read_csv(r\"C:\\Users\\Admin\\Downloads\\helpers.csv\")\n"
     ]
    }
   ],
   "source": [
    "# Load the dataset\n",
    "df = pd.read_csv(r\"C:\\Users\\Admin\\Downloads\\helpers.csv\")\n",
    "# Review the data\n",
    "print(df.head())"
   ]
  },
  {
   "cell_type": "code",
   "execution_count": 29,
   "id": "a3835b63-224b-4e7e-b7af-ae84e39eaca1",
   "metadata": {},
   "outputs": [
    {
     "name": "stdout",
     "output_type": "stream",
     "text": [
      "Index(['record_id', 'data_set_name', 'organization_name', 'main_phone_number',\n",
      "       'street_address', 'city', 'state_or_territory', 'zip_code',\n",
      "       'non_english_assistance_offered', 'organization_acronym',\n",
      "       'office_hours', 'toll_free_phone', 'tty_phone',\n",
      "       'language_line_phone_for_non_english_speakers', 'location_name',\n",
      "       'website_url', 'additional_information',\n",
      "       'accessibility_service_offered', 'geo_location', 'email_address',\n",
      "       'display', 'display_address', 'address_comment'],\n",
      "      dtype='object')\n"
     ]
    }
   ],
   "source": [
    "# Get column names\n",
    "print(df.columns)\n"
   ]
  },
  {
   "cell_type": "code",
   "execution_count": null,
   "id": "25259aa8-9840-48f6-9be1-35e3bf68fc26",
   "metadata": {},
   "outputs": [],
   "source": [
    "pip install ipython-sql"
   ]
  },
  {
   "cell_type": "code",
   "execution_count": 11,
   "id": "fd4498de-ec6c-4c46-943a-099389ce1373",
   "metadata": {},
   "outputs": [],
   "source": [
    "%load_ext sql"
   ]
  },
  {
   "cell_type": "code",
   "execution_count": 12,
   "id": "91e39f67-9ea5-4f4f-9090-40e73307ea0a",
   "metadata": {},
   "outputs": [],
   "source": [
    "%sql sqlite://"
   ]
  },
  {
   "cell_type": "code",
   "execution_count": 13,
   "id": "8ccb8860-dc66-4237-abeb-5deb58875eda",
   "metadata": {},
   "outputs": [],
   "source": [
    "import sqlite3"
   ]
  },
  {
   "cell_type": "code",
   "execution_count": null,
   "id": "107fbc1e-ec58-4a46-b093-2bebaedcf5b6",
   "metadata": {},
   "outputs": [],
   "source": [
    "import pandas as pd\n",
    "import sqlite3\n",
    "# Load the data\n",
    "df = pd.read_csv(r\"C:\\Users\\Admin\\Downloads\\helpers.csv\")\n",
    "# create in memory SQLite database\n",
    "conn = sqlite3.connect(\":memory:\")\n",
    "# Load Dataframe into SQLite\n",
    "df.to_sql(\"helpers\", conn, index=False, if_exists=\"replace\")"
   ]
  },
  {
   "cell_type": "code",
   "execution_count": 16,
   "id": "764482d3-7e62-4d64-a123-a3fb9e70e764",
   "metadata": {},
   "outputs": [
    {
     "name": "stdout",
     "output_type": "stream",
     "text": [
      "  organization_name      city  main_phone_number\n",
      "0              None  New York         9177401895\n",
      "1              None  New York         9178281581\n",
      "2              None  New York         9172161888\n",
      "3              None  New York         3479448472\n",
      "4              None  New York         6467363737\n"
     ]
    }
   ],
   "source": [
    "# Define SQL query \n",
    "city_query = \"\"\"SELECT organization_name, city, main_phone_number FROM helpers WHERE city = 'New York'\"\"\"\n",
    "# Run the query\n",
    "nyc_orgs = pd.read_sql(city_query, conn)\n",
    "print(nyc_orgs.head())"
   ]
  },
  {
   "cell_type": "code",
   "execution_count": 30,
   "id": "b08ecf96-64d8-4491-ab8e-4b0f50f951d5",
   "metadata": {},
   "outputs": [],
   "source": [
    "# Remove rows with any NaN values\n",
    "df = df.dropna()"
   ]
  },
  {
   "cell_type": "code",
   "execution_count": 41,
   "id": "820d851a-ecc3-4573-a0b3-e731405928eb",
   "metadata": {},
   "outputs": [
    {
     "name": "stdout",
     "output_type": "stream",
     "text": [
      "                                   organization_name   tty_phone\n",
      "0       Southeast Community Mental Health Center Inc  3303397850\n",
      "1                              Midtown Health Center  4023718000\n",
      "2                              Swope Health Services  8165995082\n",
      "3  Talbert House Health Center dba Centerpointh H...  5139075139\n",
      "4  Tougaloo College-Delta HealthPartners Healthy ...  6629311752\n"
     ]
    }
   ],
   "source": [
    "# Find organizations with TTY phone support\n",
    "tty_query = \" SELECT organization_name, tty_phone FROM helpers WHERE tty_phone IS NOT NULL AND tty_phone !=''\"\n",
    "tty_support = pd.read_sql(tty_query, conn)\n",
    "print(tty_support.head())"
   ]
  },
  {
   "cell_type": "code",
   "execution_count": 42,
   "id": "815ce27c-cf2b-4f90-b7e1-d3eaf80714be",
   "metadata": {},
   "outputs": [
    {
     "name": "stdout",
     "output_type": "stream",
     "text": [
      "  state_or_territory  org_count\n",
      "0                 FL      30429\n",
      "1                 TX      14682\n",
      "2                 NC       3433\n",
      "3                 GA       3089\n",
      "4                 IL       2387\n"
     ]
    }
   ],
   "source": [
    "# Count organizations per state \n",
    "state_count_query = \"SELECT state_or_territory, COUNT(*) as org_count FROM helpers GROUP BY state_or_territory ORDER BY org_count DESC\"\n",
    "state_counts = pd.read_sql(state_count_query, conn)\n",
    "print(state_counts.head())"
   ]
  },
  {
   "cell_type": "code",
   "execution_count": null,
   "id": "d39256f9-8ba1-4d2c-bea8-36bdeee9e411",
   "metadata": {},
   "outputs": [],
   "source": [
    "!pip install matplotlib\n",
    "import matplotlib.pyplot as plt"
   ]
  },
  {
   "cell_type": "code",
   "execution_count": 40,
   "id": "cab8bdb3-962a-4b7f-a5e5-ef55c85612d7",
   "metadata": {},
   "outputs": [
    {
     "data": {
      "image/png": "[encoded data removed]",
      "text/plain": [
       "<Figure size 640x480 with 1 Axes>"
      ]
     },
     "metadata": {},
     "output_type": "display_data"
    }
   ],
   "source": [
    "# Top 10 states with most Heathcare Orgs\n",
    "state_counts.head(10).plot(kind='bar', y='org_count', legend=False)\n",
    "plt.title('Top 10 States with Most Healthcare Organizations')\n",
    "plt.xlabel('State')\n",
    "plt.ylabel('Organization Count')\n",
    "plt.tight_layout()\n",
    "plt.show()"
   ]
  },
  {
   "cell_type": "code",
   "execution_count": null,
   "id": "724f215f-8a59-4a35-809c-ecec39bec1de",
   "metadata": {},
   "outputs": [],
   "source": []
  }
 ],
 "metadata": {
  "kernelspec": {
   "display_name": "Python [conda env:anaconda3]",
   "language": "python",
   "name": "conda-env-anaconda3-py"
  },
  "language_info": {
   "codemirror_mode": {
    "name": "ipython",
    "version": 3
   },
   "file_extension": ".py",
   "mimetype": "text/x-python",
   "name": "python",
   "nbconvert_exporter": "python",
   "pygments_lexer": "ipython3",
   "version": "3.12.7"
  }
 },
 "nbformat": 4,
 "nbformat_minor": 5
}
